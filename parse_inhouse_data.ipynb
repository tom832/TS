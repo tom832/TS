{
 "cells": [
  {
   "cell_type": "code",
   "execution_count": 7,
   "metadata": {},
   "outputs": [],
   "source": [
    "import pandas as pd\n",
    "from ugi_rxn_mapper import ugi_rxn_mapper"
   ]
  },
  {
   "cell_type": "code",
   "execution_count": 8,
   "metadata": {},
   "outputs": [],
   "source": [
    "df = pd.read_csv('ugi_1002.csv')"
   ]
  },
  {
   "cell_type": "code",
   "execution_count": 9,
   "metadata": {},
   "outputs": [],
   "source": [
    "pro_list = df[\"ugi_smiles\"].tolist()\n",
    "mapped_rxn_list = ugi_rxn_mapper(pro_list)"
   ]
  },
  {
   "cell_type": "code",
   "execution_count": 10,
   "metadata": {},
   "outputs": [],
   "source": [
    "df[\"rxn_smiles_with_solvent\"] = mapped_rxn_list\n",
    "df[\"solvent\"] = \"FC(F)(CO)F\"\n",
    "df[\"yield_virtual\"] = 0.0"
   ]
  },
  {
   "cell_type": "code",
   "execution_count": 11,
   "metadata": {},
   "outputs": [],
   "source": [
    "\n",
    "# delete 2 columns named \"ugi_smiles\" and \"yield\"\n",
    "# df = df.drop(columns=[\"ugi_smiles\", \"precipitate\"])\n",
    "\n",
    "# df = df[[\"exp_id\", \"rxn_smiles_with_solvent\", \"solvent\", \"precipitate\",\"yield\"]]\n",
    "df = df[[\"exp_id\", \"rxn_smiles_with_solvent\", \"solvent\", \"precipitate\"]]"
   ]
  },
  {
   "cell_type": "code",
   "execution_count": 12,
   "metadata": {},
   "outputs": [
    {
     "data": {
      "text/html": [
       "<div>\n",
       "<style scoped>\n",
       "    .dataframe tbody tr th:only-of-type {\n",
       "        vertical-align: middle;\n",
       "    }\n",
       "\n",
       "    .dataframe tbody tr th {\n",
       "        vertical-align: top;\n",
       "    }\n",
       "\n",
       "    .dataframe thead th {\n",
       "        text-align: right;\n",
       "    }\n",
       "</style>\n",
       "<table border=\"1\" class=\"dataframe\">\n",
       "  <thead>\n",
       "    <tr style=\"text-align: right;\">\n",
       "      <th></th>\n",
       "      <th>exp_id</th>\n",
       "      <th>rxn_smiles_with_solvent</th>\n",
       "      <th>solvent</th>\n",
       "      <th>precipitate</th>\n",
       "    </tr>\n",
       "  </thead>\n",
       "  <tbody>\n",
       "    <tr>\n",
       "      <th>0</th>\n",
       "      <td>ac-8-ace_al-6_nc-1_am-8</td>\n",
       "      <td>[#6-:13]#[#7+:15]-[#6:16](-[#6H3:17])(-[#6H3:1...</td>\n",
       "      <td>FC(F)(CO)F</td>\n",
       "      <td>0</td>\n",
       "    </tr>\n",
       "    <tr>\n",
       "      <th>1</th>\n",
       "      <td>ac-8-ace_al-15_nc-1_am-8</td>\n",
       "      <td>[#6-:13]#[#7+:15]-[#6:16](-[#6H3:17])(-[#6H3:1...</td>\n",
       "      <td>FC(F)(CO)F</td>\n",
       "      <td>1</td>\n",
       "    </tr>\n",
       "    <tr>\n",
       "      <th>2</th>\n",
       "      <td>ac-8-ace_al-16_nc-1_am-8</td>\n",
       "      <td>[#6-:13]#[#7+:15]-[#6:16](-[#6H3:17])(-[#6H3:1...</td>\n",
       "      <td>FC(F)(CO)F</td>\n",
       "      <td>1</td>\n",
       "    </tr>\n",
       "    <tr>\n",
       "      <th>3</th>\n",
       "      <td>ac-8-ace_al-17_nc-1_am-8</td>\n",
       "      <td>[#6-:13]#[#7+:15]-[#6:16](-[#6H3:17])(-[#6H3:1...</td>\n",
       "      <td>FC(F)(CO)F</td>\n",
       "      <td>1</td>\n",
       "    </tr>\n",
       "    <tr>\n",
       "      <th>4</th>\n",
       "      <td>ac-8-ace_al-18_nc-1_am-8</td>\n",
       "      <td>[#6-:13]#[#7+:15]-[#6:16](-[#6H3:17])(-[#6H3:1...</td>\n",
       "      <td>FC(F)(CO)F</td>\n",
       "      <td>0</td>\n",
       "    </tr>\n",
       "    <tr>\n",
       "      <th>...</th>\n",
       "      <td>...</td>\n",
       "      <td>...</td>\n",
       "      <td>...</td>\n",
       "      <td>...</td>\n",
       "    </tr>\n",
       "    <tr>\n",
       "      <th>91</th>\n",
       "      <td>ac-18_al-15_nc-1_am-10-ace</td>\n",
       "      <td>[#6-:15]#[#7+:17]-[#6:18](-[#6H3:19])(-[#6H3:2...</td>\n",
       "      <td>FC(F)(CO)F</td>\n",
       "      <td>1</td>\n",
       "    </tr>\n",
       "    <tr>\n",
       "      <th>92</th>\n",
       "      <td>ac-18_al-16_nc-1_am-10-ace</td>\n",
       "      <td>[#6-:15]#[#7+:17]-[#6:18](-[#6H3:19])(-[#6H3:2...</td>\n",
       "      <td>FC(F)(CO)F</td>\n",
       "      <td>1</td>\n",
       "    </tr>\n",
       "    <tr>\n",
       "      <th>93</th>\n",
       "      <td>ac-18_al-17_nc-1_am-10-ace</td>\n",
       "      <td>[#6-:15]#[#7+:17]-[#6:18](-[#6H3:19])(-[#6H3:2...</td>\n",
       "      <td>FC(F)(CO)F</td>\n",
       "      <td>0</td>\n",
       "    </tr>\n",
       "    <tr>\n",
       "      <th>94</th>\n",
       "      <td>ac-18_al-18_nc-1_am-10-ace</td>\n",
       "      <td>[#6-:15]#[#7+:17]-[#6:18](-[#6H3:19])(-[#6H3:2...</td>\n",
       "      <td>FC(F)(CO)F</td>\n",
       "      <td>1</td>\n",
       "    </tr>\n",
       "    <tr>\n",
       "      <th>95</th>\n",
       "      <td>ac-18_al-20_nc-1_am-10-ace</td>\n",
       "      <td>[#6-:15]#[#7+:17]-[#6:18](-[#6H3:19])(-[#6H3:2...</td>\n",
       "      <td>FC(F)(CO)F</td>\n",
       "      <td>0</td>\n",
       "    </tr>\n",
       "  </tbody>\n",
       "</table>\n",
       "<p>96 rows × 4 columns</p>\n",
       "</div>"
      ],
      "text/plain": [
       "                        exp_id  \\\n",
       "0      ac-8-ace_al-6_nc-1_am-8   \n",
       "1     ac-8-ace_al-15_nc-1_am-8   \n",
       "2     ac-8-ace_al-16_nc-1_am-8   \n",
       "3     ac-8-ace_al-17_nc-1_am-8   \n",
       "4     ac-8-ace_al-18_nc-1_am-8   \n",
       "..                         ...   \n",
       "91  ac-18_al-15_nc-1_am-10-ace   \n",
       "92  ac-18_al-16_nc-1_am-10-ace   \n",
       "93  ac-18_al-17_nc-1_am-10-ace   \n",
       "94  ac-18_al-18_nc-1_am-10-ace   \n",
       "95  ac-18_al-20_nc-1_am-10-ace   \n",
       "\n",
       "                              rxn_smiles_with_solvent     solvent  precipitate  \n",
       "0   [#6-:13]#[#7+:15]-[#6:16](-[#6H3:17])(-[#6H3:1...  FC(F)(CO)F            0  \n",
       "1   [#6-:13]#[#7+:15]-[#6:16](-[#6H3:17])(-[#6H3:1...  FC(F)(CO)F            1  \n",
       "2   [#6-:13]#[#7+:15]-[#6:16](-[#6H3:17])(-[#6H3:1...  FC(F)(CO)F            1  \n",
       "3   [#6-:13]#[#7+:15]-[#6:16](-[#6H3:17])(-[#6H3:1...  FC(F)(CO)F            1  \n",
       "4   [#6-:13]#[#7+:15]-[#6:16](-[#6H3:17])(-[#6H3:1...  FC(F)(CO)F            0  \n",
       "..                                                ...         ...          ...  \n",
       "91  [#6-:15]#[#7+:17]-[#6:18](-[#6H3:19])(-[#6H3:2...  FC(F)(CO)F            1  \n",
       "92  [#6-:15]#[#7+:17]-[#6:18](-[#6H3:19])(-[#6H3:2...  FC(F)(CO)F            1  \n",
       "93  [#6-:15]#[#7+:17]-[#6:18](-[#6H3:19])(-[#6H3:2...  FC(F)(CO)F            0  \n",
       "94  [#6-:15]#[#7+:17]-[#6:18](-[#6H3:19])(-[#6H3:2...  FC(F)(CO)F            1  \n",
       "95  [#6-:15]#[#7+:17]-[#6:18](-[#6H3:19])(-[#6H3:2...  FC(F)(CO)F            0  \n",
       "\n",
       "[96 rows x 4 columns]"
      ]
     },
     "execution_count": 12,
     "metadata": {},
     "output_type": "execute_result"
    }
   ],
   "source": [
    "df"
   ]
  },
  {
   "cell_type": "code",
   "execution_count": 13,
   "metadata": {},
   "outputs": [],
   "source": [
    "df.to_csv(\"reaxys_fandi_inhouse_yield_1002.csv\", index=False)"
   ]
  }
 ],
 "metadata": {
  "kernelspec": {
   "display_name": "Python 3",
   "language": "python",
   "name": "python3"
  },
  "language_info": {
   "codemirror_mode": {
    "name": "ipython",
    "version": 3
   },
   "file_extension": ".py",
   "mimetype": "text/x-python",
   "name": "python",
   "nbconvert_exporter": "python",
   "pygments_lexer": "ipython3",
   "version": "3.8.19"
  }
 },
 "nbformat": 4,
 "nbformat_minor": 2
}
