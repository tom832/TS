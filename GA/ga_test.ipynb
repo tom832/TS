{
 "cells": [
  {
   "cell_type": "code",
   "execution_count": 2,
   "metadata": {},
   "outputs": [],
   "source": [
    "import numpy as np\n",
    "import pandas as pd\n",
    "from rdkit import Chem\n",
    "from rdkit.Chem import AllChem\n",
    "from tqdm import tqdm\n",
    "import os\n",
    "# from functools import wraps\n",
    "# from IPython.display import clear_output\n",
    "import time\n",
    "\n",
    "import sys\n",
    "sys.path.insert(0, '..')\n",
    "from ugi_rxn_mapper import ugi_rxn_mapper\n",
    "from chemprop.args import PredictArgs\n",
    "from chemprop.train import make_predictions"
   ]
  },
  {
   "cell_type": "code",
   "execution_count": 13,
   "metadata": {},
   "outputs": [],
   "source": [
    "# class silence_stdout:\n",
    "#     def __enter__(self):\n",
    "#         self._original_stdout = sys.stdout\n",
    "#         sys.stdout = open(os.devnull, 'w')\n",
    "\n",
    "#     def __exit__(self, exc_type, exc_val, exc_tb):\n",
    "#         sys.stdout.close()\n",
    "#         sys.stdout = self._original_stdout\n",
    "\n",
    "#     def __call__(self, func):\n",
    "#         @wraps(func)\n",
    "#         def wrapper(*args, **kwargs):\n",
    "#             with self:\n",
    "#                 return func(*args, **kwargs)\n",
    "#         return wrapper\n",
    "# import contextlib\n",
    "# import io\n",
    "\n",
    "# def silence_stdout(func):\n",
    "#     @wraps(func)\n",
    "#     def wrapper(*args, **kwargs):\n",
    "#         with contextlib.redirect_stdout(io.StringIO()):\n",
    "#             return func(*args, **kwargs)\n",
    "#     return wrapper"
   ]
  },
  {
   "cell_type": "code",
   "execution_count": 25,
   "metadata": {},
   "outputs": [],
   "source": [
    "def get_ugi_prod(smi_list) -> str:  # generate 4c4c ugi prod from list of 4 bbs\n",
    "    ugi_4c_4c_smarts = \"[NH2,NH3:5].[CH1:2]=O.[C:1](=O)[OH,O-].[N+:3]#[C-:4]>>[C:1](=O)[N:5][C:2][C+0:4](=O)[N+0:3]\"\n",
    "    ugi_4c_4c_reaction = AllChem.ReactionFromSmarts(ugi_4c_4c_smarts)\n",
    "    ugi_4c_4c_prod = ugi_4c_4c_reaction.RunReactants([Chem.MolFromSmiles(smi) for smi in smi_list])\n",
    "    print(ugi_4c_4c_prod)\n",
    "    return Chem.MolToSmiles(ugi_4c_4c_prod[0][0])\n",
    "\n",
    "\n",
    "def set_model_args():\n",
    "    \"\"\"Load Chemprop model.\"\"\"\n",
    "    # define args for chemprop predictor\n",
    "    args = PredictArgs()\n",
    "    args.features_generator =  [\"rdkit_2d\",\"ifg_drugbank_2\",\"ugi_qmdesc_atom\"]\n",
    "    args.number_of_molecules = 2\n",
    "    args.gpu = 0\n",
    "    args.checkpoint_paths = ['/home/jnliu/chemprop/benchmark_chemprop/hyper_opt/opt_for_pred/trial_seed_60/fold_2/model_0/model.pt', '/home/jnliu/chemprop/benchmark_chemprop/hyper_opt/opt_for_pred/trial_seed_60/fold_1/model_0/model.pt', '/home/jnliu/chemprop/benchmark_chemprop/hyper_opt/opt_for_pred/trial_seed_60/fold_8/model_0/model.pt', '/home/jnliu/chemprop/benchmark_chemprop/hyper_opt/opt_for_pred/trial_seed_60/fold_6/model_0/model.pt', '/home/jnliu/chemprop/benchmark_chemprop/hyper_opt/opt_for_pred/trial_seed_60/fold_0/model_0/model.pt', '/home/jnliu/chemprop/benchmark_chemprop/hyper_opt/opt_for_pred/trial_seed_60/fold_4/model_0/model.pt', '/home/jnliu/chemprop/benchmark_chemprop/hyper_opt/opt_for_pred/trial_seed_60/fold_9/model_0/model.pt', '/home/jnliu/chemprop/benchmark_chemprop/hyper_opt/opt_for_pred/trial_seed_60/fold_7/model_0/model.pt', '/home/jnliu/chemprop/benchmark_chemprop/hyper_opt/opt_for_pred/trial_seed_60/fold_3/model_0/model.pt', '/home/jnliu/chemprop/benchmark_chemprop/hyper_opt/opt_for_pred/trial_seed_60/fold_5/model_0/model.pt']\n",
    "    args.no_features_scaling = False\n",
    "    args.preds_path = \"./preds.csv\"\n",
    "\n",
    "    # load model\n",
    "    # model_objects = load_model(args)\n",
    "    return args\n",
    "\n",
    "# @silence_stdout()  \n",
    "def get_expected_return(args, combination):\n",
    "\n",
    "    smi_list = [all_bbs_list[i] for i in combination]\n",
    "    prod_smi = get_ugi_prod(smi_list)\n",
    "    mapped_rxn = ugi_rxn_mapper([prod_smi])[0]\n",
    "    rxn_smi = [[mapped_rxn,\"FC(F)(F)CO\"]]\n",
    "    score = make_predictions(args, rxn_smi)[0][0]\n",
    "    return score"
   ]
  },
  {
   "cell_type": "code",
   "execution_count": 8,
   "metadata": {},
   "outputs": [
    {
     "name": "stdout",
     "output_type": "stream",
     "text": [
      "num of amine_ace: 3 \n",
      " num of aldehyde: 937 \n",
      " num of acid: 1619 \n",
      " num of isocyanide: 1\n"
     ]
    }
   ],
   "source": [
    "df_amine_ace = pd.read_csv('../data/ugi/BBs_with_ace/ace_on_amine.smi')\n",
    "df_aldehyde = pd.read_csv('../data/ugi/BBs/aldehyde.smi')\n",
    "df_acid = pd.read_csv('../data/ugi/BBs/acid.smi')\n",
    "df_isocyanide = pd.read_csv('../data/ugi/BBs/NC.smi')\n",
    "df_amine_ace.columns = ['smiles']\n",
    "total_bb_list = df_amine_ace[\"smiles\"].tolist()\n",
    "print(f\"num of amine_ace: {len(df_amine_ace)} \\n num of aldehyde: {len(df_aldehyde)} \\n num of acid: {len(df_acid)} \\n num of isocyanide: {len(df_isocyanide)}\")"
   ]
  },
  {
   "cell_type": "code",
   "execution_count": 22,
   "metadata": {},
   "outputs": [],
   "source": [
    "# load model params\n",
    "args = set_model_args()"
   ]
  },
  {
   "cell_type": "markdown",
   "metadata": {},
   "source": [
    "### parse smi file"
   ]
  },
  {
   "cell_type": "code",
   "execution_count": 11,
   "metadata": {},
   "outputs": [],
   "source": [
    "amine_path = '../data/ugi/BBs_with_ace/ace_on_amine.smi'\n",
    "aldehyde_path = '../data/ugi/BBs/aldehyde.smi'\n",
    "acid_path = '../data/ugi/BBs/acid.smi'\n",
    "isocyanide_path = '../data/ugi/BBs/NC.smi'\n",
    "\n",
    "with open(amine_path, 'r') as f:\n",
    "    amine_content = f.readlines()\n",
    "    amine_smi_list = [line.strip().split()[0] for line in amine_content] \n",
    "    amine_name_list = [line.strip().split()[1] for line in amine_content]\n",
    "\n",
    "with open(aldehyde_path, 'r') as f:\n",
    "    aldehyde_content = f.readlines()\n",
    "    aldehyde_smi_list = [line.strip().split()[0] for line in aldehyde_content]\n",
    "    aldehyde_name_list = [line.strip().split()[1] for line in aldehyde_content]\n",
    "\n",
    "with open(acid_path, 'r') as f:\n",
    "    acid_content = f.readlines()\n",
    "    acid_smi_list = [line.strip().split()[0] for line in acid_content]\n",
    "    acid_name_list = [line.strip().split()[1] for line in acid_content]\n",
    "\n",
    "with open(isocyanide_path, 'r') as f:\n",
    "    isocyanide_content = f.readlines()\n",
    "    isocyanide_smi_list = [line.strip().split()[0] for line in isocyanide_content]\n",
    "    isocyanide_name_list = [line.strip().split()[1] for line in isocyanide_content]\n",
    "\n",
    "all_bbs_list = amine_smi_list + aldehyde_smi_list + acid_smi_list + isocyanide_smi_list\n",
    "all_idx_list = amine_name_list + aldehyde_name_list + acid_name_list + isocyanide_name_list"
   ]
  },
  {
   "cell_type": "code",
   "execution_count": 11,
   "metadata": {},
   "outputs": [
    {
     "name": "stdout",
     "output_type": "stream",
     "text": [
      "2564\n",
      "2564\n"
     ]
    }
   ],
   "source": [
    "print(len(all_idx_list))\n",
    "print(len(all_bbs_list))"
   ]
  },
  {
   "cell_type": "markdown",
   "metadata": {},
   "source": [
    "### GA"
   ]
  },
  {
   "cell_type": "code",
   "execution_count": 5,
   "metadata": {},
   "outputs": [
    {
     "name": "stdout",
     "output_type": "stream",
     "text": [
      "(100, 4)\n"
     ]
    }
   ],
   "source": [
    "POPULATION_SIZE = 100\n",
    "category_sizes = [4,938,1620,2]\n",
    "population = np.zeros((POPULATION_SIZE, len(category_sizes)), dtype=int)\n",
    "print(population.shape)"
   ]
  },
  {
   "cell_type": "code",
   "execution_count": 9,
   "metadata": {},
   "outputs": [
    {
     "name": "stdout",
     "output_type": "stream",
     "text": [
      "[[   0  108 1668 2562]\n",
      " [   1  868 2012 2562]\n",
      " [   3  113 1146 2563]\n",
      " [   3  448 2526 2563]\n",
      " [   3  381 1105 2563]\n",
      " [   0  160 2556 2563]\n",
      " [   2  898 2463 2562]\n",
      " [   2  887 1935 2563]\n",
      " [   1  566 1016 2563]\n",
      " [   3  114 1479 2562]\n",
      " [   3  334 1672 2562]\n",
      " [   0  866 1707 2563]\n",
      " [   2  508 2480 2563]\n",
      " [   1  382 2198 2563]\n",
      " [   3  203 2325 2563]\n",
      " [   1  287 2411 2563]\n",
      " [   1  315  992 2562]\n",
      " [   0  618 1131 2563]\n",
      " [   2  711 2345 2562]\n",
      " [   3  853 1830 2562]\n",
      " [   2  294 2490 2562]\n",
      " [   3  812 1987 2563]\n",
      " [   1  426 1458 2562]\n",
      " [   3  276 1755 2563]\n",
      " [   1  632 1359 2563]\n",
      " [   1  396 1296 2562]\n",
      " [   3  446 1434 2562]\n",
      " [   3  720 1319 2563]\n",
      " [   0  301 1359 2562]\n",
      " [   2  838 1923 2563]\n",
      " [   0  499 1927 2563]\n",
      " [   2  280 1696 2563]\n",
      " [   0  417  981 2562]\n",
      " [   0  883 2446 2563]\n",
      " [   1  518 2437 2562]\n",
      " [   2  548 2367 2563]\n",
      " [   2  546 1597 2563]\n",
      " [   1  771 1683 2562]\n",
      " [   3  764 1205 2563]\n",
      " [   0  856 2430 2563]\n",
      " [   1  320 1612 2563]\n",
      " [   1  201 2266 2563]\n",
      " [   3  666 2126 2563]\n",
      " [   2  192 1205 2562]\n",
      " [   1   40 1589 2562]\n",
      " [   3  222 2246 2563]\n",
      " [   0  735 1410 2562]\n",
      " [   0  669 1559 2563]\n",
      " [   2   44 1200 2562]\n",
      " [   2  139 1092 2563]\n",
      " [   2  659  984 2563]\n",
      " [   3   11 1625 2563]\n",
      " [   0  438 1880 2563]\n",
      " [   1  838 1939 2563]\n",
      " [   1  251 2401 2562]\n",
      " [   0  842 2055 2563]\n",
      " [   3  114 2419 2562]\n",
      " [   2  738 1285 2563]\n",
      " [   3  783 2074 2562]\n",
      " [   2  685 1247 2562]\n",
      " [   3  743 2167 2562]\n",
      " [   3  575 1920 2562]\n",
      " [   0  782 1436 2563]\n",
      " [   3  551 1932 2563]\n",
      " [   3  313 2257 2563]\n",
      " [   1  854 2039 2562]\n",
      " [   0  308 2168 2562]\n",
      " [   0  347 2049 2562]\n",
      " [   0  311 1559 2563]\n",
      " [   0  592 2130 2563]\n",
      " [   3  457 1443 2562]\n",
      " [   1  713 1384 2562]\n",
      " [   0  477 1607 2562]\n",
      " [   3  317 2019 2562]\n",
      " [   2  459 2135 2562]\n",
      " [   0   98 1787 2563]\n",
      " [   2  139 1950 2563]\n",
      " [   0  664 1591 2562]\n",
      " [   1  148 1474 2562]\n",
      " [   3  362 1348 2562]\n",
      " [   3  733 1417 2562]\n",
      " [   1  147 2549 2563]\n",
      " [   0  645  957 2563]\n",
      " [   0  553 1191 2562]\n",
      " [   0  663 1899 2562]\n",
      " [   0  314 2506 2563]\n",
      " [   0  647 1950 2563]\n",
      " [   3  780 1068 2563]\n",
      " [   1  590  964 2563]\n",
      " [   1  342 1279 2562]\n",
      " [   0   11 1607 2562]\n",
      " [   2  803 1605 2563]\n",
      " [   1  679 1252 2562]\n",
      " [   3  766 1854 2563]\n",
      " [   2  563 1950 2563]\n",
      " [   0    5 2151 2562]\n",
      " [   1  767 1764 2563]\n",
      " [   3    6 1026 2562]\n",
      " [   3  133 1381 2563]\n",
      " [   0  494 1028 2562]]\n"
     ]
    }
   ],
   "source": [
    "population = np.zeros((POPULATION_SIZE, len(category_sizes)), dtype=int)\n",
    "for i in range(len(category_sizes)):\n",
    "    if i == 0:\n",
    "        population[:, i] = np.random.choice(category_sizes[i], size=POPULATION_SIZE)\n",
    "    else:\n",
    "        population[:, i] = np.random.choice(range(np.sum(category_sizes[:i]), np.sum(category_sizes[:i+1])), size=POPULATION_SIZE)\n",
    "print(population)"
   ]
  },
  {
   "cell_type": "code",
   "execution_count": 16,
   "metadata": {},
   "outputs": [
    {
     "name": "stdout",
     "output_type": "stream",
     "text": [
      "[   0  108 1668 2562]\n",
      "[   1  868 2012 2562]\n",
      "[   3  113 1146 2563]\n",
      "[   3  448 2526 2563]\n",
      "[   3  381 1105 2563]\n",
      "[   0  160 2556 2563]\n",
      "[   2  898 2463 2562]\n",
      "[   2  887 1935 2563]\n",
      "[   1  566 1016 2563]\n",
      "[   3  114 1479 2562]\n",
      "[   3  334 1672 2562]\n",
      "[   0  866 1707 2563]\n",
      "[   2  508 2480 2563]\n",
      "[   1  382 2198 2563]\n",
      "[   3  203 2325 2563]\n",
      "[   1  287 2411 2563]\n",
      "[   1  315  992 2562]\n",
      "[   0  618 1131 2563]\n",
      "[   2  711 2345 2562]\n",
      "[   3  853 1830 2562]\n",
      "[   2  294 2490 2562]\n",
      "[   3  812 1987 2563]\n",
      "[   1  426 1458 2562]\n",
      "[   3  276 1755 2563]\n",
      "[   1  632 1359 2563]\n",
      "[   1  396 1296 2562]\n",
      "[   3  446 1434 2562]\n",
      "[   3  720 1319 2563]\n",
      "[   0  301 1359 2562]\n",
      "[   2  838 1923 2563]\n",
      "[   0  499 1927 2563]\n",
      "[   2  280 1696 2563]\n",
      "[   0  417  981 2562]\n",
      "[   0  883 2446 2563]\n",
      "[   1  518 2437 2562]\n",
      "[   2  548 2367 2563]\n",
      "[   2  546 1597 2563]\n",
      "[   1  771 1683 2562]\n",
      "[   3  764 1205 2563]\n",
      "[   0  856 2430 2563]\n",
      "[   1  320 1612 2563]\n",
      "[   1  201 2266 2563]\n",
      "[   3  666 2126 2563]\n",
      "[   2  192 1205 2562]\n",
      "[   1   40 1589 2562]\n",
      "[   3  222 2246 2563]\n",
      "[   0  735 1410 2562]\n",
      "[   0  669 1559 2563]\n",
      "[   2   44 1200 2562]\n",
      "[   2  139 1092 2563]\n",
      "[   2  659  984 2563]\n",
      "[   3   11 1625 2563]\n",
      "[   0  438 1880 2563]\n",
      "[   1  838 1939 2563]\n",
      "[   1  251 2401 2562]\n",
      "[   0  842 2055 2563]\n",
      "[   3  114 2419 2562]\n",
      "[   2  738 1285 2563]\n",
      "[   3  783 2074 2562]\n",
      "[   2  685 1247 2562]\n",
      "[   3  743 2167 2562]\n",
      "[   3  575 1920 2562]\n",
      "[   0  782 1436 2563]\n",
      "[   3  551 1932 2563]\n",
      "[   3  313 2257 2563]\n",
      "[   1  854 2039 2562]\n",
      "[   0  308 2168 2562]\n",
      "[   0  347 2049 2562]\n",
      "[   0  311 1559 2563]\n",
      "[   0  592 2130 2563]\n",
      "[   3  457 1443 2562]\n",
      "[   1  713 1384 2562]\n",
      "[   0  477 1607 2562]\n",
      "[   3  317 2019 2562]\n",
      "[   2  459 2135 2562]\n",
      "[   0   98 1787 2563]\n",
      "[   2  139 1950 2563]\n",
      "[   0  664 1591 2562]\n",
      "[   1  148 1474 2562]\n",
      "[   3  362 1348 2562]\n",
      "[   3  733 1417 2562]\n",
      "[   1  147 2549 2563]\n",
      "[   0  645  957 2563]\n",
      "[   0  553 1191 2562]\n",
      "[   0  663 1899 2562]\n",
      "[   0  314 2506 2563]\n",
      "[   0  647 1950 2563]\n",
      "[   3  780 1068 2563]\n",
      "[   1  590  964 2563]\n",
      "[   1  342 1279 2562]\n",
      "[   0   11 1607 2562]\n",
      "[   2  803 1605 2563]\n",
      "[   1  679 1252 2562]\n",
      "[   3  766 1854 2563]\n",
      "[   2  563 1950 2563]\n",
      "[   0    5 2151 2562]\n",
      "[   1  767 1764 2563]\n",
      "[   3    6 1026 2562]\n",
      "[   3  133 1381 2563]\n",
      "[   0  494 1028 2562]\n"
     ]
    }
   ],
   "source": [
    "# print(all_bbs_list[2561])\n",
    "for individual in population:\n",
    "    # print([all_bbs_list[i] for i in individual])\n",
    "    # print(individual)"
   ]
  },
  {
   "cell_type": "code",
   "execution_count": 27,
   "metadata": {},
   "outputs": [
    {
     "name": "stderr",
     "output_type": "stream",
     "text": [
      "Generation:   0%|          | 0/50 [00:00<?, ?it/s]"
     ]
    },
    {
     "name": "stdout",
     "output_type": "stream",
     "text": [
      "((<rdkit.Chem.rdchem.Mol object at 0x7efe346764a0>,),)\n",
      "Loading training args\n",
      "Setting molecule featurization parameters to default.\n",
      "Loading data\n",
      "Validating SMILES\n",
      "Test size = 1\n"
     ]
    },
    {
     "name": "stderr",
     "output_type": "stream",
     "text": []
    },
    {
     "name": "stdout",
     "output_type": "stream",
     "text": [
      "Moving model to cuda\n"
     ]
    },
    {
     "name": "stderr",
     "output_type": "stream",
     "text": [
      "\n",
      "\u001b[A\n",
      "\u001b[A\n",
      "\u001b[A"
     ]
    },
    {
     "name": "stdout",
     "output_type": "stream",
     "text": [
      "Moving model to cuda\n"
     ]
    },
    {
     "name": "stderr",
     "output_type": "stream",
     "text": [
      "\n",
      "\u001b[A\n",
      "\u001b[A\n",
      "\u001b[A"
     ]
    },
    {
     "name": "stdout",
     "output_type": "stream",
     "text": [
      "Moving model to cuda\n"
     ]
    },
    {
     "name": "stderr",
     "output_type": "stream",
     "text": [
      "\n",
      "\u001b[A\n",
      "\u001b[A\n",
      "\u001b[A"
     ]
    },
    {
     "name": "stdout",
     "output_type": "stream",
     "text": [
      "Moving model to cuda\n"
     ]
    },
    {
     "name": "stderr",
     "output_type": "stream",
     "text": [
      "\n",
      "\u001b[A\n",
      "\u001b[A\n",
      "\u001b[A"
     ]
    },
    {
     "name": "stdout",
     "output_type": "stream",
     "text": [
      "Moving model to cuda\n"
     ]
    },
    {
     "name": "stderr",
     "output_type": "stream",
     "text": [
      "\n",
      "\u001b[A\n",
      "\u001b[A\n",
      "\u001b[A"
     ]
    },
    {
     "name": "stdout",
     "output_type": "stream",
     "text": [
      "Moving model to cuda\n"
     ]
    },
    {
     "name": "stderr",
     "output_type": "stream",
     "text": [
      "\n",
      "\u001b[A\n",
      "\u001b[A\n",
      "\u001b[A"
     ]
    },
    {
     "name": "stdout",
     "output_type": "stream",
     "text": [
      "Moving model to cuda\n"
     ]
    },
    {
     "name": "stderr",
     "output_type": "stream",
     "text": [
      "\n",
      "\u001b[A\n",
      "\u001b[A\n",
      "\u001b[A"
     ]
    },
    {
     "name": "stdout",
     "output_type": "stream",
     "text": [
      "Moving model to cuda\n"
     ]
    },
    {
     "name": "stderr",
     "output_type": "stream",
     "text": [
      "\n",
      "\u001b[A\n",
      "\u001b[A\n",
      "\u001b[A"
     ]
    },
    {
     "name": "stdout",
     "output_type": "stream",
     "text": [
      "Moving model to cuda\n"
     ]
    },
    {
     "name": "stderr",
     "output_type": "stream",
     "text": [
      "\n",
      "\u001b[A\n",
      "\u001b[A\n",
      "\u001b[A"
     ]
    },
    {
     "name": "stdout",
     "output_type": "stream",
     "text": [
      "Moving model to cuda\n"
     ]
    },
    {
     "name": "stderr",
     "output_type": "stream",
     "text": [
      "\n",
      "\u001b[A\n",
      "\u001b[A\n",
      "100%|██████████| 10/10 [00:03<00:00,  2.93it/s]\n"
     ]
    },
    {
     "name": "stdout",
     "output_type": "stream",
     "text": [
      "Saving predictions to ./preds.csv\n",
      "Elapsed time = 0:00:04\n",
      "((<rdkit.Chem.rdchem.Mol object at 0x7effd3710820>,),)\n",
      "Loading training args\n",
      "Setting molecule featurization parameters to default.\n",
      "Loading data\n",
      "Validating SMILES\n",
      "Test size = 1\n"
     ]
    },
    {
     "name": "stderr",
     "output_type": "stream",
     "text": []
    },
    {
     "name": "stdout",
     "output_type": "stream",
     "text": [
      "Moving model to cuda\n"
     ]
    },
    {
     "name": "stderr",
     "output_type": "stream",
     "text": [
      "\n",
      "\u001b[A\n",
      "\u001b[A\n",
      "\u001b[A"
     ]
    },
    {
     "name": "stdout",
     "output_type": "stream",
     "text": [
      "Moving model to cuda\n"
     ]
    },
    {
     "name": "stderr",
     "output_type": "stream",
     "text": [
      "\n",
      "\u001b[A\n",
      "\u001b[A\n",
      "\u001b[A"
     ]
    },
    {
     "name": "stdout",
     "output_type": "stream",
     "text": [
      "Moving model to cuda\n"
     ]
    },
    {
     "name": "stderr",
     "output_type": "stream",
     "text": [
      "\n",
      "\u001b[A\n",
      "\u001b[A\n",
      "\u001b[A"
     ]
    },
    {
     "name": "stdout",
     "output_type": "stream",
     "text": [
      "Moving model to cuda\n"
     ]
    },
    {
     "name": "stderr",
     "output_type": "stream",
     "text": [
      "\n",
      "\u001b[A\n",
      "\u001b[A\n",
      "\u001b[A"
     ]
    },
    {
     "name": "stdout",
     "output_type": "stream",
     "text": [
      "Moving model to cuda\n"
     ]
    },
    {
     "name": "stderr",
     "output_type": "stream",
     "text": [
      "\n",
      "\u001b[A\n",
      "\u001b[A\n",
      "\u001b[A"
     ]
    },
    {
     "name": "stdout",
     "output_type": "stream",
     "text": [
      "Moving model to cuda\n"
     ]
    },
    {
     "name": "stderr",
     "output_type": "stream",
     "text": [
      "\n",
      "\u001b[A\n",
      "\u001b[A\n",
      "\u001b[A"
     ]
    },
    {
     "name": "stdout",
     "output_type": "stream",
     "text": [
      "Moving model to cuda\n"
     ]
    },
    {
     "name": "stderr",
     "output_type": "stream",
     "text": [
      "\n",
      "\u001b[A\n",
      "\u001b[A\n",
      "\u001b[A"
     ]
    },
    {
     "name": "stdout",
     "output_type": "stream",
     "text": [
      "Moving model to cuda\n"
     ]
    },
    {
     "name": "stderr",
     "output_type": "stream",
     "text": [
      "\n",
      "\u001b[A\n",
      "\u001b[A\n",
      "\u001b[A"
     ]
    },
    {
     "name": "stdout",
     "output_type": "stream",
     "text": [
      "Moving model to cuda\n"
     ]
    },
    {
     "name": "stderr",
     "output_type": "stream",
     "text": [
      "\n",
      "\u001b[A\n",
      "\u001b[A\n",
      "\u001b[A"
     ]
    },
    {
     "name": "stdout",
     "output_type": "stream",
     "text": [
      "Moving model to cuda\n"
     ]
    },
    {
     "name": "stderr",
     "output_type": "stream",
     "text": [
      "\n",
      "\u001b[A\n",
      "\u001b[A\n",
      "100%|██████████| 10/10 [00:03<00:00,  3.08it/s]\n"
     ]
    },
    {
     "name": "stdout",
     "output_type": "stream",
     "text": [
      "Saving predictions to ./preds.csv\n",
      "Elapsed time = 0:00:03\n",
      "((<rdkit.Chem.rdchem.Mol object at 0x7effd322c510>,),)\n",
      "Loading training args\n",
      "Setting molecule featurization parameters to default.\n",
      "Loading data\n",
      "Validating SMILES\n",
      "Test size = 1\n"
     ]
    },
    {
     "name": "stderr",
     "output_type": "stream",
     "text": []
    },
    {
     "name": "stdout",
     "output_type": "stream",
     "text": [
      "Moving model to cuda\n"
     ]
    },
    {
     "name": "stderr",
     "output_type": "stream",
     "text": [
      "\n",
      "\u001b[A\n",
      "\u001b[A\n",
      "\u001b[A"
     ]
    },
    {
     "name": "stdout",
     "output_type": "stream",
     "text": [
      "Moving model to cuda\n"
     ]
    },
    {
     "name": "stderr",
     "output_type": "stream",
     "text": [
      "\n",
      "\u001b[A\n",
      "\u001b[A\n",
      "\u001b[A"
     ]
    },
    {
     "name": "stdout",
     "output_type": "stream",
     "text": [
      "Moving model to cuda\n"
     ]
    },
    {
     "name": "stderr",
     "output_type": "stream",
     "text": [
      "\n",
      "\u001b[A\n",
      "\u001b[A\n",
      "\u001b[A"
     ]
    },
    {
     "name": "stdout",
     "output_type": "stream",
     "text": [
      "Moving model to cuda\n"
     ]
    },
    {
     "name": "stderr",
     "output_type": "stream",
     "text": [
      "\n",
      "\u001b[A\n",
      "\u001b[A\n",
      "\u001b[A"
     ]
    },
    {
     "name": "stdout",
     "output_type": "stream",
     "text": [
      "Moving model to cuda\n"
     ]
    },
    {
     "name": "stderr",
     "output_type": "stream",
     "text": [
      "\n",
      "\u001b[A\n",
      "\u001b[A\n",
      "\u001b[A"
     ]
    },
    {
     "name": "stdout",
     "output_type": "stream",
     "text": [
      "Moving model to cuda\n"
     ]
    },
    {
     "name": "stderr",
     "output_type": "stream",
     "text": [
      "\n",
      "\u001b[A\n",
      "\u001b[A\n",
      "\u001b[A"
     ]
    },
    {
     "name": "stdout",
     "output_type": "stream",
     "text": [
      "Moving model to cuda\n"
     ]
    },
    {
     "name": "stderr",
     "output_type": "stream",
     "text": [
      "\n",
      "\u001b[A\n",
      "\u001b[A\n",
      "\u001b[A"
     ]
    },
    {
     "name": "stdout",
     "output_type": "stream",
     "text": [
      "Moving model to cuda\n"
     ]
    },
    {
     "name": "stderr",
     "output_type": "stream",
     "text": [
      "\n",
      "\u001b[A\n",
      "\u001b[A\n",
      "\u001b[A"
     ]
    },
    {
     "name": "stdout",
     "output_type": "stream",
     "text": [
      "Moving model to cuda\n"
     ]
    },
    {
     "name": "stderr",
     "output_type": "stream",
     "text": [
      "\n",
      "\u001b[A\n",
      "\u001b[A\n",
      "\u001b[A"
     ]
    },
    {
     "name": "stdout",
     "output_type": "stream",
     "text": [
      "Moving model to cuda\n"
     ]
    },
    {
     "name": "stderr",
     "output_type": "stream",
     "text": [
      "\n",
      "\u001b[A\n",
      "\u001b[A\n",
      "100%|██████████| 10/10 [00:03<00:00,  3.30it/s]\n"
     ]
    },
    {
     "name": "stdout",
     "output_type": "stream",
     "text": [
      "Saving predictions to ./preds.csv\n",
      "Elapsed time = 0:00:03\n",
      "((<rdkit.Chem.rdchem.Mol object at 0x7effd36a83c0>,),)\n",
      "Loading training args\n",
      "Setting molecule featurization parameters to default.\n",
      "Loading data\n",
      "Validating SMILES\n",
      "Test size = 1\n"
     ]
    },
    {
     "name": "stderr",
     "output_type": "stream",
     "text": []
    },
    {
     "name": "stdout",
     "output_type": "stream",
     "text": [
      "Moving model to cuda\n"
     ]
    },
    {
     "name": "stderr",
     "output_type": "stream",
     "text": [
      "\n",
      "\u001b[A\n",
      "\u001b[A\n",
      "\u001b[A"
     ]
    },
    {
     "name": "stdout",
     "output_type": "stream",
     "text": [
      "Moving model to cuda\n"
     ]
    },
    {
     "name": "stderr",
     "output_type": "stream",
     "text": [
      "\n",
      "\u001b[A\n",
      "\u001b[A\n",
      "\u001b[A"
     ]
    },
    {
     "name": "stdout",
     "output_type": "stream",
     "text": [
      "Moving model to cuda\n"
     ]
    },
    {
     "name": "stderr",
     "output_type": "stream",
     "text": [
      "\n",
      "\u001b[A\n",
      "\u001b[A\n",
      "\u001b[A"
     ]
    },
    {
     "name": "stdout",
     "output_type": "stream",
     "text": [
      "Moving model to cuda\n"
     ]
    },
    {
     "name": "stderr",
     "output_type": "stream",
     "text": [
      "\n",
      "\u001b[A\n",
      "\u001b[A\n",
      "\u001b[A"
     ]
    },
    {
     "name": "stdout",
     "output_type": "stream",
     "text": [
      "Moving model to cuda\n"
     ]
    },
    {
     "name": "stderr",
     "output_type": "stream",
     "text": [
      "\n",
      "\u001b[A\n",
      "\u001b[A\n",
      "\u001b[A"
     ]
    },
    {
     "name": "stdout",
     "output_type": "stream",
     "text": [
      "Moving model to cuda\n"
     ]
    },
    {
     "name": "stderr",
     "output_type": "stream",
     "text": [
      "\n",
      "\u001b[A\n",
      "\u001b[A\n",
      "\u001b[A"
     ]
    },
    {
     "name": "stdout",
     "output_type": "stream",
     "text": [
      "Moving model to cuda\n"
     ]
    },
    {
     "name": "stderr",
     "output_type": "stream",
     "text": [
      "\n",
      "\u001b[A\n",
      "\u001b[A\n",
      "\u001b[A"
     ]
    },
    {
     "name": "stdout",
     "output_type": "stream",
     "text": [
      "Moving model to cuda\n"
     ]
    },
    {
     "name": "stderr",
     "output_type": "stream",
     "text": [
      "\n",
      "\u001b[A\n",
      "\u001b[A\n",
      "\u001b[A"
     ]
    },
    {
     "name": "stdout",
     "output_type": "stream",
     "text": [
      "Moving model to cuda\n"
     ]
    },
    {
     "name": "stderr",
     "output_type": "stream",
     "text": [
      "\n",
      "\u001b[A\n",
      "\u001b[A\n",
      "\u001b[A"
     ]
    },
    {
     "name": "stdout",
     "output_type": "stream",
     "text": [
      "Moving model to cuda\n"
     ]
    },
    {
     "name": "stderr",
     "output_type": "stream",
     "text": [
      "\n",
      "\u001b[A\n",
      "\u001b[A\n",
      "100%|██████████| 10/10 [00:03<00:00,  2.90it/s]\n"
     ]
    },
    {
     "name": "stdout",
     "output_type": "stream",
     "text": [
      "Saving predictions to ./preds.csv\n",
      "Elapsed time = 0:00:04\n",
      "((<rdkit.Chem.rdchem.Mol object at 0x7effd3738c10>,),)\n",
      "Loading training args\n",
      "Setting molecule featurization parameters to default.\n",
      "Loading data\n",
      "Validating SMILES\n",
      "Test size = 1\n"
     ]
    },
    {
     "name": "stderr",
     "output_type": "stream",
     "text": []
    },
    {
     "name": "stdout",
     "output_type": "stream",
     "text": [
      "Moving model to cuda\n"
     ]
    },
    {
     "name": "stderr",
     "output_type": "stream",
     "text": [
      "\n",
      "\u001b[A\n",
      "\u001b[A\n",
      "\u001b[A"
     ]
    },
    {
     "name": "stdout",
     "output_type": "stream",
     "text": [
      "Moving model to cuda\n"
     ]
    },
    {
     "name": "stderr",
     "output_type": "stream",
     "text": [
      "\n",
      "\u001b[A\n",
      "\u001b[A\n",
      "\u001b[A"
     ]
    },
    {
     "name": "stdout",
     "output_type": "stream",
     "text": [
      "Moving model to cuda\n"
     ]
    },
    {
     "name": "stderr",
     "output_type": "stream",
     "text": [
      "\n",
      "\u001b[A\n",
      "\u001b[A\n",
      "\u001b[A"
     ]
    },
    {
     "name": "stdout",
     "output_type": "stream",
     "text": [
      "Moving model to cuda\n"
     ]
    },
    {
     "name": "stderr",
     "output_type": "stream",
     "text": [
      "\n",
      "\u001b[A\n",
      "\u001b[A\n",
      "\u001b[A"
     ]
    },
    {
     "name": "stdout",
     "output_type": "stream",
     "text": [
      "Moving model to cuda\n"
     ]
    },
    {
     "name": "stderr",
     "output_type": "stream",
     "text": [
      "\n",
      "\u001b[A\n",
      "\u001b[A\n",
      "\u001b[A"
     ]
    },
    {
     "name": "stdout",
     "output_type": "stream",
     "text": [
      "Moving model to cuda\n"
     ]
    },
    {
     "name": "stderr",
     "output_type": "stream",
     "text": [
      "\n",
      "\u001b[A\n",
      "\u001b[A\n",
      "\u001b[A"
     ]
    },
    {
     "name": "stdout",
     "output_type": "stream",
     "text": [
      "Moving model to cuda\n"
     ]
    },
    {
     "name": "stderr",
     "output_type": "stream",
     "text": [
      "\n",
      "\u001b[A\n",
      "\u001b[A\n",
      "\u001b[A"
     ]
    },
    {
     "name": "stdout",
     "output_type": "stream",
     "text": [
      "Moving model to cuda\n"
     ]
    },
    {
     "name": "stderr",
     "output_type": "stream",
     "text": [
      "\n",
      "\u001b[A\n",
      "\u001b[A\n",
      "\u001b[A"
     ]
    },
    {
     "name": "stdout",
     "output_type": "stream",
     "text": [
      "Moving model to cuda\n"
     ]
    },
    {
     "name": "stderr",
     "output_type": "stream",
     "text": [
      "\n",
      "\u001b[A\n",
      "\u001b[A\n",
      "\u001b[A"
     ]
    },
    {
     "name": "stdout",
     "output_type": "stream",
     "text": [
      "Moving model to cuda\n"
     ]
    },
    {
     "name": "stderr",
     "output_type": "stream",
     "text": [
      "\n",
      "\u001b[A\n",
      "\u001b[A\n",
      "100%|██████████| 10/10 [00:03<00:00,  3.17it/s]\n",
      "Generation:   0%|          | 0/50 [00:16<?, ?it/s]"
     ]
    },
    {
     "name": "stdout",
     "output_type": "stream",
     "text": [
      "Saving predictions to ./preds.csv\n",
      "Elapsed time = 0:00:03\n",
      "shape of fitness:(5,)\n",
      "[2.34301158e-05 1.48759171e-03 7.78663683e-04 1.28799566e-03\n",
      " 3.18574134e-04]\n",
      "shape of parents:(5, 4)\n",
      "[[   2  897 1615 2562]\n",
      " [   0  794 1886 2562]\n",
      " [   2   14 1438 2562]\n",
      " [   2   14 1438 2562]\n",
      " [   2   14 1438 2562]]\n",
      "parents after shuffle:[[   0  794 1886 2562]\n",
      " [   2   14 1438 2562]\n",
      " [   2  897 1615 2562]\n",
      " [   2   14 1438 2562]\n",
      " [   2   14 1438 2562]]\n"
     ]
    },
    {
     "name": "stderr",
     "output_type": "stream",
     "text": [
      "\n"
     ]
    },
    {
     "ename": "IndexError",
     "evalue": "index 5 is out of bounds for axis 0 with size 5",
     "output_type": "error",
     "traceback": [
      "\u001b[0;31m---------------------------------------------------------------------------\u001b[0m",
      "\u001b[0;31mIndexError\u001b[0m                                Traceback (most recent call last)",
      "Cell \u001b[0;32mIn[27], line 42\u001b[0m\n\u001b[1;32m     40\u001b[0m crossover_point \u001b[38;5;241m=\u001b[39m np\u001b[38;5;241m.\u001b[39mrandom\u001b[38;5;241m.\u001b[39mrandint(\u001b[38;5;28mlen\u001b[39m(category_sizes))\n\u001b[1;32m     41\u001b[0m children[i, :crossover_point] \u001b[38;5;241m=\u001b[39m parents[i, :crossover_point]\n\u001b[0;32m---> 42\u001b[0m children[i, crossover_point:] \u001b[38;5;241m=\u001b[39m \u001b[43mparents\u001b[49m\u001b[43m[\u001b[49m\u001b[43mi\u001b[49m\u001b[38;5;241;43m+\u001b[39;49m\u001b[38;5;241;43m1\u001b[39;49m\u001b[43m,\u001b[49m\u001b[43m \u001b[49m\u001b[43mcrossover_point\u001b[49m\u001b[43m:\u001b[49m\u001b[43m]\u001b[49m\n\u001b[1;32m     43\u001b[0m children[i\u001b[38;5;241m+\u001b[39m\u001b[38;5;241m1\u001b[39m, :crossover_point] \u001b[38;5;241m=\u001b[39m parents[i\u001b[38;5;241m+\u001b[39m\u001b[38;5;241m1\u001b[39m, :crossover_point]\n\u001b[1;32m     44\u001b[0m children[i\u001b[38;5;241m+\u001b[39m\u001b[38;5;241m1\u001b[39m, crossover_point:] \u001b[38;5;241m=\u001b[39m parents[i, crossover_point:]\n",
      "\u001b[0;31mIndexError\u001b[0m: index 5 is out of bounds for axis 0 with size 5"
     ]
    }
   ],
   "source": [
    "# 定义参数\n",
    "POPULATION_SIZE = 200  # 种群大小\n",
    "GENERATIONS = 50  # 迭代次数\n",
    "MUTATION_RATE = 0.1  # 变异率\n",
    "\n",
    "# 假设我们有1000个商品，分成4个类别，每个类别的商品数量分别是\n",
    "category_sizes = [len(amine_smi_list), len(aldehyde_smi_list), len(acid_smi_list), len(isocyanide_smi_list)]\n",
    "\n",
    "# 初始化种群\n",
    "population = np.zeros((POPULATION_SIZE, len(category_sizes)), dtype=int)\n",
    "for i in range(len(category_sizes)):\n",
    "    if i == 0:\n",
    "        population[:, i] = np.random.choice(category_sizes[i], size=POPULATION_SIZE)\n",
    "    else:\n",
    "        population[:, i] = np.random.choice(range(np.sum(category_sizes[:i]), np.sum(category_sizes[:i+1])), size=POPULATION_SIZE)\n",
    "\n",
    "best_individuals = []\n",
    "\n",
    "for generation in tqdm(range(GENERATIONS), desc='Generation'):\n",
    "    \n",
    "    # 计算适应度\n",
    "    fitness = np.array([get_expected_return(args, individual) for individual in population])\n",
    "    print(f\"shape of fitness:{fitness.shape}\")\n",
    "    print(fitness)\n",
    "\n",
    "    # 保存当前代的最优解\n",
    "    best_individuals.append(population[np.argmax(fitness)])\n",
    "    # print(best_individuals)\n",
    "\n",
    "    parents = population[np.random.choice(np.arange(POPULATION_SIZE), size=POPULATION_SIZE, p=fitness/fitness.sum())]\n",
    "    # print(f\"shape of parents:{parents.shape}\")\n",
    "    # print(parents)\n",
    "\n",
    "    # selection\n",
    "    np.random.shuffle(parents)\n",
    "    # print(f\"parents after shuffle:{parents}\")\n",
    "    children = np.zeros_like(parents)\n",
    "\n",
    "    \n",
    "    for i in range(0, POPULATION_SIZE, 2):  # set step to 2 to generate 2 children per iteration\n",
    "        crossover_point = np.random.randint(len(category_sizes))    # randomly select crossover point\n",
    "        children[i, :crossover_point] = parents[i, :crossover_point]    # before crossover point, child1 is the same as parent1\n",
    "        children[i, crossover_point:] = parents[i+1, crossover_point:]  # after crossover point, child1 is the same as parent2\n",
    "        children[i+1, :crossover_point] = parents[i+1, :crossover_point]\n",
    "        children[i+1, crossover_point:] = parents[i, crossover_point:]\n",
    "\n",
    "    # crossover\n",
    "    for i in range(POPULATION_SIZE):\n",
    "        if np.random.random() < MUTATION_RATE:  # 10 % possibility to mutate\n",
    "            mutation_category = np.random.randint(len(category_sizes))  # randomly a kind of bbs to mutate\n",
    "            if mutation_category == 0:\n",
    "                children[i, mutation_category] = np.random.choice(category_sizes[mutation_category])    # randomly select a bb from the category\n",
    "            else:\n",
    "                children[i, mutation_category] = np.random.choice(range(np.sum(category_sizes[:mutation_category]), np.sum(category_sizes[:mutation_category+1])))\n",
    "\n",
    "    # 更新种群\n",
    "    population = children\n",
    "    with open(\"ga_log.log\", \"a\") as f:\n",
    "        f.write(f\"Generation {generation} finished at {time.ctime()}\\n\")\n",
    "    clear_output()\n",
    "    \n",
    "# 输出最优解\n",
    "best_individual = population[np.argmax([get_expected_return(args, individual) for individual in population])]\n",
    "print('Best combination:', best_individual)\n"
   ]
  },
  {
   "cell_type": "code",
   "execution_count": null,
   "metadata": {},
   "outputs": [],
   "source": [
    "best_2000_individuals = np.array(best_individuals)[np.argsort(best_fitnesses)[-2000:]]\n",
    "\n",
    "# 输出最好的2000个解\n",
    "for i, individual in enumerate(best_2000_individuals):\n",
    "    print(f'Best combination {i+1}:', individual)"
   ]
  },
  {
   "cell_type": "code",
   "execution_count": 28,
   "metadata": {},
   "outputs": [],
   "source": [
    "# read pkl file\n",
    "import pickle\n",
    "\n",
    "with open('best_individuals.pkl', 'rb') as f:\n",
    "    best_individuals = pickle.load(f)\n",
    "\n",
    "best_individuals"
   ]
  }
 ],
 "metadata": {
  "kernelspec": {
   "display_name": "Python 3",
   "language": "python",
   "name": "python3"
  },
  "language_info": {
   "codemirror_mode": {
    "name": "ipython",
    "version": 3
   },
   "file_extension": ".py",
   "mimetype": "text/x-python",
   "name": "python",
   "nbconvert_exporter": "python",
   "pygments_lexer": "ipython3",
   "version": "3.8.19"
  }
 },
 "nbformat": 4,
 "nbformat_minor": 2
}
